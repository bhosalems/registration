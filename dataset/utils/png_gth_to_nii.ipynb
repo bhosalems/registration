{
 "cells": [
  {
   "cell_type": "markdown",
   "metadata": {},
   "source": [
    "## Converting labels from png to nii file\n",
    "\n",
    "\n",
    "### Overview\n",
    "\n",
    "This is the first step for data preparation\n",
    "\n",
    "Input: ground truth labels in `.png` format\n",
    "\n",
    "Output: labels in `.nii` format, indexed by patient id"
   ]
  },
  {
   "cell_type": "code",
   "execution_count": 8,
   "metadata": {},
   "outputs": [],
   "source": [
    "import numpy as np\n",
    "\n",
    "import numpy as np\n",
    "import SimpleITK as sitk\n",
    "\n",
    "\n",
    "def read_nii_bysitk(input_fid, peel_info = False):\n",
    "    \"\"\" read nii to numpy through simpleitk\n",
    "        peelinfo: taking direction, origin, spacing and metadata out\n",
    "    \"\"\"\n",
    "    img_obj = sitk.ReadImage(input_fid)\n",
    "    img_np = sitk.GetArrayFromImage(img_obj)\n",
    "    if peel_info:\n",
    "        info_obj = {\n",
    "                \"spacing\": img_obj.GetSpacing(),\n",
    "                \"origin\": img_obj.GetOrigin(),\n",
    "                \"direction\": img_obj.GetDirection(),\n",
    "                \"array_size\": img_np.shape\n",
    "                }\n",
    "        return img_np, info_obj\n",
    "    else:\n",
    "        return img_np\n",
    "\n",
    "def convert_to_sitk(input_mat, peeled_info):\n",
    "    \"\"\"\n",
    "    write a numpy array to sitk image object with essential meta-data\n",
    "    \"\"\"\n",
    "    nii_obj = sitk.GetImageFromArray(input_mat)\n",
    "    if peeled_info:\n",
    "        nii_obj.SetSpacing(  peeled_info[\"spacing\"] )\n",
    "        nii_obj.SetOrigin(   peeled_info[\"origin\"] )\n",
    "        nii_obj.SetDirection(peeled_info[\"direction\"] )\n",
    "    return nii_obj\n",
    "\n",
    "def np2itk(img, ref_obj):\n",
    "    \"\"\"\n",
    "    img: numpy array\n",
    "    ref_obj: reference sitk object for copying information from\n",
    "    \"\"\"\n",
    "    itk_obj = sitk.GetImageFromArray(img)\n",
    "    itk_obj.SetSpacing( ref_obj.GetSpacing() )\n",
    "    itk_obj.SetOrigin( ref_obj.GetOrigin()  )\n",
    "    itk_obj.SetDirection( ref_obj.GetDirection()  )\n",
    "    return itk_obj"
   ]
  },
  {
   "cell_type": "code",
   "execution_count": 7,
   "metadata": {},
   "outputs": [
    {
     "name": "stdout",
     "output_type": "stream",
     "text": [
      "Nothing done.\n",
      "The autoreload extension is already loaded. To reload it, use:\n",
      "  %reload_ext autoreload\n"
     ]
    }
   ],
   "source": [
    "%reset\n",
    "%load_ext autoreload\n",
    "%autoreload 2\n",
    "import os\n",
    "import glob\n",
    "\n",
    "import numpy as np\n",
    "import PIL\n",
    "import matplotlib.pyplot as plt\n",
    "import SimpleITK as sitk\n",
    "import sys\n",
    "sys.path.insert(0, '../../dataloaders/')\n",
    "import niftiio as nio"
   ]
  },
  {
   "cell_type": "code",
   "execution_count": 9,
   "metadata": {},
   "outputs": [],
   "source": [
    "example = \"./MR/1/T2SPIR/Ground/IMG-0002-00001.png\" # example of ground-truth file name. "
   ]
  },
  {
   "cell_type": "code",
   "execution_count": 10,
   "metadata": {},
   "outputs": [],
   "source": [
    "### search for scan ids\n",
    "ids = os.listdir(\"/data_local/mbhosale/CHAOS/CHAOS_Train_Sets/Train_Sets/MR\")\n",
    "OUT_DIR = '/data_local/mbhosale/CHAOS/CHAOS_Train_Sets/Train_Sets/MR'"
   ]
  },
  {
   "cell_type": "code",
   "execution_count": 11,
   "metadata": {},
   "outputs": [
    {
     "data": {
      "text/plain": [
       "['3',\n",
       " '36',\n",
       " '31',\n",
       " '22',\n",
       " '10',\n",
       " '32',\n",
       " '38',\n",
       " '21',\n",
       " '19',\n",
       " '13',\n",
       " '5',\n",
       " '37',\n",
       " '2',\n",
       " '8',\n",
       " '20',\n",
       " '39',\n",
       " '33',\n",
       " '34',\n",
       " '15',\n",
       " '1']"
      ]
     },
     "execution_count": 11,
     "metadata": {},
     "output_type": "execute_result"
    }
   ],
   "source": [
    "ids"
   ]
  },
  {
   "cell_type": "code",
   "execution_count": 12,
   "metadata": {},
   "outputs": [
    {
     "name": "stdout",
     "output_type": "stream",
     "text": [
      "image with id 3 has been saved!\n",
      "image with id 36 has been saved!\n",
      "image with id 31 has been saved!\n",
      "image with id 22 has been saved!\n",
      "image with id 10 has been saved!\n",
      "image with id 32 has been saved!\n",
      "image with id 38 has been saved!\n",
      "image with id 21 has been saved!\n",
      "image with id 19 has been saved!\n",
      "image with id 13 has been saved!\n",
      "image with id 5 has been saved!\n",
      "image with id 37 has been saved!\n",
      "image with id 2 has been saved!\n",
      "image with id 8 has been saved!\n",
      "image with id 20 has been saved!\n",
      "image with id 39 has been saved!\n",
      "image with id 33 has been saved!\n",
      "image with id 34 has been saved!\n",
      "image with id 15 has been saved!\n",
      "image with id 1 has been saved!\n"
     ]
    }
   ],
   "source": [
    "#### Write them to nii files for the ease of loading in future\n",
    "for curr_id in ids:\n",
    "    pngs = glob.glob(f'/data_local/mbhosale/CHAOS/CHAOS_Train_Sets/Train_Sets/MR/{curr_id}/T2SPIR/Ground/*.png')\n",
    "    pngs = sorted(pngs, key = lambda x: int(os.path.basename(x).split(\"-\")[-1].split(\".png\")[0]))\n",
    "    buffer = []\n",
    "\n",
    "    for fid in pngs:\n",
    "        buffer.append(PIL.Image.open(fid))\n",
    "\n",
    "    vol = np.stack(buffer, axis = 0)\n",
    "    # flip correction\n",
    "    vol = np.flip(vol, axis = 1).copy()\n",
    "    # remap values\n",
    "    for new_val, old_val in enumerate(sorted(np.unique(vol))):\n",
    "        vol[vol == old_val] = new_val\n",
    "\n",
    "    # get reference    \n",
    "    ref_img = f'/data_local/mbhosale/CHAOS/CHAOS_Train_Sets/Train_Sets/MR/{curr_id}/T2SPIR/DICOM_anon/IMG-{curr_id}.nii.gz'\n",
    "    img_o = sitk.ReadImage(ref_img)\n",
    "    vol_o = nio.np2itk(img=vol, ref_obj=img_o)\n",
    "    sitk.WriteImage(vol_o, f'/data_local/mbhosale/CHAOS/CHAOS_Train_Sets/Train_Sets/MR/{curr_id}/T2SPIR/Ground/{curr_id}_seg.nii.gz')\n",
    "    print(f'image with id {curr_id} has been saved!')"
   ]
  },
  {
   "cell_type": "code",
   "execution_count": 15,
   "metadata": {},
   "outputs": [
    {
     "name": "stdout",
     "output_type": "stream",
     "text": [
      "image with id 3 has been saved!\n",
      "image with id 36 has been saved!\n",
      "image with id 31 has been saved!\n",
      "image with id 22 has been saved!\n",
      "image with id 10 has been saved!\n",
      "image with id 32 has been saved!\n",
      "image with id 38 has been saved!\n",
      "image with id 21 has been saved!\n",
      "image with id 19 has been saved!\n",
      "image with id 13 has been saved!\n",
      "image with id 5 has been saved!\n",
      "image with id 37 has been saved!\n",
      "image with id 2 has been saved!\n",
      "image with id 8 has been saved!\n",
      "image with id 20 has been saved!\n",
      "image with id 39 has been saved!\n",
      "image with id 33 has been saved!\n",
      "image with id 34 has been saved!\n",
      "image with id 15 has been saved!\n",
      "image with id 1 has been saved!\n"
     ]
    }
   ],
   "source": [
    "#### Write them to nii files for the ease of loading in future\n",
    "for curr_id in ids:\n",
    "    pngs = glob.glob(f'/data_local/mbhosale/CHAOS/CHAOS_Train_Sets/Train_Sets/MR/{curr_id}/T1DUAL/Ground/*.png')\n",
    "    pngs = sorted(pngs, key = lambda x: int(os.path.basename(x).split(\"-\")[-1].split(\".png\")[0]))\n",
    "    buffer = []\n",
    "\n",
    "    for fid in pngs:\n",
    "        buffer.append(PIL.Image.open(fid))\n",
    "\n",
    "    vol = np.stack(buffer, axis = 0)\n",
    "    # flip correction\n",
    "    vol = np.flip(vol, axis = 1).copy()\n",
    "    # remap values\n",
    "    for new_val, old_val in enumerate(sorted(np.unique(vol))):\n",
    "        vol[vol == old_val] = new_val\n",
    "\n",
    "    # get reference    \n",
    "    ref_img = f'/data_local/mbhosale/CHAOS/CHAOS_Train_Sets/Train_Sets/MR/{curr_id}/T1DUAL/DICOM_anon/InPhase/IMG-{curr_id}.nii.gz'\n",
    "    img_o = sitk.ReadImage(ref_img)\n",
    "    vol_o = nio.np2itk(img=vol, ref_obj=img_o)\n",
    "    sitk.WriteImage(vol_o, f'/data_local/mbhosale/CHAOS/CHAOS_Train_Sets/Train_Sets/MR/{curr_id}/T1DUAL/Ground/{curr_id}_seg.nii.gz')\n",
    "    print(f'image with id {curr_id} has been saved!')"
   ]
  },
  {
   "cell_type": "code",
   "execution_count": null,
   "metadata": {},
   "outputs": [],
   "source": [
    "# TODO We need to save the images if we are using T2 separately, becuase it uses reference image while saving the labels, although ground labels for both T1 and T2 are same."
   ]
  }
 ],
 "metadata": {
  "kernelspec": {
   "display_name": "Python 3.8.5 ('registration')",
   "language": "python",
   "name": "python3"
  },
  "language_info": {
   "codemirror_mode": {
    "name": "ipython",
    "version": 3
   },
   "file_extension": ".py",
   "mimetype": "text/x-python",
   "name": "python",
   "nbconvert_exporter": "python",
   "pygments_lexer": "ipython3",
   "version": "3.8.5"
  },
  "vscode": {
   "interpreter": {
    "hash": "14ed6de374c48440ff39c2e91eef04c561ef86ab9a76143cc7d1d3225c365268"
   }
  }
 },
 "nbformat": 4,
 "nbformat_minor": 2
}
